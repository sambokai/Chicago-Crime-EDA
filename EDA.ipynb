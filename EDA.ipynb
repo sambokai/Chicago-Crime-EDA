{
 "cells": [
  {
   "cell_type": "markdown",
   "metadata": {},
   "source": [
    "# Explorative Datenanalyse der Kriminalität in Chicago\n",
    "----"
   ]
  },
  {
   "cell_type": "markdown",
   "metadata": {},
   "source": [
    "# Konfiguration"
   ]
  },
  {
   "cell_type": "code",
   "execution_count": 1,
   "metadata": {},
   "outputs": [],
   "source": [
    "%matplotlib inline\n",
    "import pandas as pd\n",
    "import matplotlib.pyplot as plt\n",
    "import seaborn as sns\n",
    "from sklearn import preprocessing"
   ]
  },
  {
   "cell_type": "code",
   "execution_count": 2,
   "metadata": {},
   "outputs": [],
   "source": [
    "pd.set_option('display.max_columns', None)"
   ]
  },
  {
   "cell_type": "code",
   "execution_count": 3,
   "metadata": {
    "collapsed": false
   },
   "outputs": [
    {
     "data": {
      "text/html": [
       "<style>body {\n",
       "    margin: 0;\n",
       "    font-family: Helvetica;\n",
       "}\n",
       "table.dataframe {\n",
       "    border-collapse: collapse;\n",
       "    border: none;\n",
       "}\n",
       "table.dataframe tr {\n",
       "    border: none;\n",
       "}\n",
       "table.dataframe td, table.dataframe th {\n",
       "    margin: 0;\n",
       "    border: 1px solid white;\n",
       "    padding-left: 0.25em;\n",
       "    padding-right: 0.25em;\n",
       "}\n",
       "table.dataframe th:not(:empty) {\n",
       "    background-color: #fec;\n",
       "    text-align: left;\n",
       "    font-weight: normal;\n",
       "}\n",
       "table.dataframe tr:nth-child(2) th:empty {\n",
       "    border-left: none;\n",
       "    border-right: 1px dashed #888;\n",
       "}\n",
       "table.dataframe td {\n",
       "    border: 2px solid #ccf;\n",
       "    background-color: #f4f4ff;\n",
       "}\n",
       "\n",
       "table.dataframe td,\n",
       "table.dataframe th {\n",
       "    color: black;\n",
       "}h3 {\n",
       "    color: white;\n",
       "    background-color: black;\n",
       "    padding: 0.5em;\n",
       "}\n",
       "</style>"
      ],
      "text/plain": [
       "<IPython.core.display.HTML object>"
      ]
     },
     "execution_count": 3,
     "metadata": {},
     "output_type": "execute_result"
    }
   ],
   "source": [
    "from IPython.core.display import HTML\n",
    "css = open('style-table.css').read() + open('style-notebook.css').read()\n",
    "HTML('<style>{}</style>'.format(css))"
   ]
  },
  {
   "cell_type": "code",
   "execution_count": 4,
   "metadata": {},
   "outputs": [
    {
     "name": "stdout",
     "output_type": "stream",
     "text": [
      "CPU times: user 3min 4s, sys: 4.6 s, total: 3min 8s\n",
      "Wall time: 3min 8s\n"
     ]
    }
   ],
   "source": [
    "%%time\n",
    "\n",
    "dateparse = lambda x: pd.datetime.strptime(x, '%m/%d/%Y %I:%M:%S %p')\n",
    "\n",
    "crimes = pd.read_csv(f\"data/crimes.csv\", parse_dates=['Date', 'Updated On'], date_parser=dateparse)"
   ]
  },
  {
   "cell_type": "code",
   "execution_count": 5,
   "metadata": {
    "collapsed": false
   },
   "outputs": [
    {
     "data": {
      "text/html": [
       "<div>\n",
       "<style scoped>\n",
       "    .dataframe tbody tr th:only-of-type {\n",
       "        vertical-align: middle;\n",
       "    }\n",
       "\n",
       "    .dataframe tbody tr th {\n",
       "        vertical-align: top;\n",
       "    }\n",
       "\n",
       "    .dataframe thead th {\n",
       "        text-align: right;\n",
       "    }\n",
       "</style>\n",
       "<table border=\"1\" class=\"dataframe\">\n",
       "  <thead>\n",
       "    <tr style=\"text-align: right;\">\n",
       "      <th></th>\n",
       "      <th>ID</th>\n",
       "      <th>Case Number</th>\n",
       "      <th>Date</th>\n",
       "      <th>Block</th>\n",
       "      <th>IUCR</th>\n",
       "      <th>Primary Type</th>\n",
       "      <th>Description</th>\n",
       "      <th>Location Description</th>\n",
       "      <th>Arrest</th>\n",
       "      <th>Domestic</th>\n",
       "      <th>Beat</th>\n",
       "      <th>District</th>\n",
       "      <th>Ward</th>\n",
       "      <th>Community Area</th>\n",
       "      <th>FBI Code</th>\n",
       "      <th>X Coordinate</th>\n",
       "      <th>Y Coordinate</th>\n",
       "      <th>Year</th>\n",
       "      <th>Updated On</th>\n",
       "      <th>Latitude</th>\n",
       "      <th>Longitude</th>\n",
       "      <th>Location</th>\n",
       "    </tr>\n",
       "  </thead>\n",
       "  <tbody>\n",
       "    <tr>\n",
       "      <th>0</th>\n",
       "      <td>10000092</td>\n",
       "      <td>HY189866</td>\n",
       "      <td>2015-03-18 19:44:00</td>\n",
       "      <td>047XX W OHIO ST</td>\n",
       "      <td>041A</td>\n",
       "      <td>BATTERY</td>\n",
       "      <td>AGGRAVATED: HANDGUN</td>\n",
       "      <td>STREET</td>\n",
       "      <td>False</td>\n",
       "      <td>False</td>\n",
       "      <td>1111</td>\n",
       "      <td>11.0</td>\n",
       "      <td>28.0</td>\n",
       "      <td>25.0</td>\n",
       "      <td>04B</td>\n",
       "      <td>1144606.0</td>\n",
       "      <td>1903566.0</td>\n",
       "      <td>2015</td>\n",
       "      <td>2018-02-10 15:50:01</td>\n",
       "      <td>41.891399</td>\n",
       "      <td>-87.744385</td>\n",
       "      <td>(41.891398861, -87.744384567)</td>\n",
       "    </tr>\n",
       "    <tr>\n",
       "      <th>1</th>\n",
       "      <td>10000094</td>\n",
       "      <td>HY190059</td>\n",
       "      <td>2015-03-18 23:00:00</td>\n",
       "      <td>066XX S MARSHFIELD AVE</td>\n",
       "      <td>4625</td>\n",
       "      <td>OTHER OFFENSE</td>\n",
       "      <td>PAROLE VIOLATION</td>\n",
       "      <td>STREET</td>\n",
       "      <td>True</td>\n",
       "      <td>False</td>\n",
       "      <td>725</td>\n",
       "      <td>7.0</td>\n",
       "      <td>15.0</td>\n",
       "      <td>67.0</td>\n",
       "      <td>26</td>\n",
       "      <td>1166468.0</td>\n",
       "      <td>1860715.0</td>\n",
       "      <td>2015</td>\n",
       "      <td>2018-02-10 15:50:01</td>\n",
       "      <td>41.773372</td>\n",
       "      <td>-87.665319</td>\n",
       "      <td>(41.773371528, -87.665319468)</td>\n",
       "    </tr>\n",
       "  </tbody>\n",
       "</table>\n",
       "</div>"
      ],
      "text/plain": [
       "         ID Case Number                Date                   Block  IUCR  \\\n",
       "0  10000092    HY189866 2015-03-18 19:44:00         047XX W OHIO ST  041A   \n",
       "1  10000094    HY190059 2015-03-18 23:00:00  066XX S MARSHFIELD AVE  4625   \n",
       "\n",
       "    Primary Type          Description Location Description  Arrest  Domestic  \\\n",
       "0        BATTERY  AGGRAVATED: HANDGUN               STREET   False     False   \n",
       "1  OTHER OFFENSE     PAROLE VIOLATION               STREET    True     False   \n",
       "\n",
       "   Beat  District  Ward  Community Area FBI Code  X Coordinate  Y Coordinate  \\\n",
       "0  1111      11.0  28.0            25.0      04B     1144606.0     1903566.0   \n",
       "1   725       7.0  15.0            67.0       26     1166468.0     1860715.0   \n",
       "\n",
       "   Year          Updated On   Latitude  Longitude  \\\n",
       "0  2015 2018-02-10 15:50:01  41.891399 -87.744385   \n",
       "1  2015 2018-02-10 15:50:01  41.773372 -87.665319   \n",
       "\n",
       "                        Location  \n",
       "0  (41.891398861, -87.744384567)  \n",
       "1  (41.773371528, -87.665319468)  "
      ]
     },
     "execution_count": 5,
     "metadata": {},
     "output_type": "execute_result"
    }
   ],
   "source": [
    "crimes.head(2)"
   ]
  },
  {
   "cell_type": "markdown",
   "metadata": {},
   "source": [
    "# Cleaning"
   ]
  },
  {
   "cell_type": "code",
   "execution_count": 7,
   "metadata": {},
   "outputs": [],
   "source": [
    "crimes = crimes[crimes['Primary Type'] != 'DOMESTIC VIOLENCE']"
   ]
  },
  {
   "cell_type": "markdown",
   "metadata": {},
   "source": [
    "# Häufigkeit pro Straftatenart"
   ]
  },
  {
   "cell_type": "code",
   "execution_count": 8,
   "metadata": {},
   "outputs": [
    {
     "data": {
      "text/plain": [
       "Primary Type\n",
       "THEFT                                1417696\n",
       "BATTERY                              1232015\n",
       "CRIMINAL DAMAGE                       771356\n",
       "NARCOTICS                             710760\n",
       "OTHER OFFENSE                         418441\n",
       "ASSAULT                               418375\n",
       "BURGLARY                              387936\n",
       "MOTOR VEHICLE THEFT                   314156\n",
       "DECEPTIVE PRACTICE                    262300\n",
       "ROBBERY                               255578\n",
       "CRIMINAL TRESPASS                     193342\n",
       "WEAPONS VIOLATION                      70639\n",
       "PROSTITUTION                           68322\n",
       "PUBLIC PEACE VIOLATION                 47775\n",
       "OFFENSE INVOLVING CHILDREN             45301\n",
       "CRIM SEXUAL ASSAULT                    27075\n",
       "SEX OFFENSE                            25081\n",
       "INTERFERENCE WITH PUBLIC OFFICER       15136\n",
       "GAMBLING                               14422\n",
       "LIQUOR LAW VIOLATION                   14061\n",
       "ARSON                                  11151\n",
       "HOMICIDE                                9421\n",
       "KIDNAPPING                              6657\n",
       "INTIMIDATION                            3932\n",
       "STALKING                                3365\n",
       "OBSCENITY                                580\n",
       "CONCEALED CARRY LICENSE VIOLATION        283\n",
       "NON-CRIMINAL                             163\n",
       "PUBLIC INDECENCY                         161\n",
       "OTHER NARCOTIC VIOLATION                 124\n",
       "HUMAN TRAFFICKING                         49\n",
       "NON - CRIMINAL                            38\n",
       "RITUALISM                                 23\n",
       "NON-CRIMINAL (SUBJECT SPECIFIED)           9\n",
       "dtype: int64"
      ]
     },
     "execution_count": 8,
     "metadata": {},
     "output_type": "execute_result"
    }
   ],
   "source": [
    "crimes.groupby(crimes['Primary Type']).size().sort_values(ascending=False)"
   ]
  },
  {
   "cell_type": "markdown",
   "metadata": {},
   "source": [
    "# Verhaftungsraten\n",
    "\n",
    "> Enden gewaltsame Straftaten überproportional oft in Verhaftungen?"
   ]
  },
  {
   "cell_type": "code",
   "execution_count": 268,
   "metadata": {},
   "outputs": [],
   "source": [
    "c = crimes\n",
    "c = c.groupby(['Primary Type', 'Arrest']).size().sort_values(ascending=False)\n",
    "c = c.unstack()\n",
    "c['Total'] = c[False] + c[True]\n",
    "c = c.sort_values(ascending=False, by='Total')\n",
    "c = (c[True] / (c[True] + c[False]))\n",
    "arrest_percent = c.sort_values(ascending=False)\n"
   ]
  },
  {
   "cell_type": "markdown",
   "metadata": {},
   "source": [
    "### Hohe Verhaftungsrate"
   ]
  },
  {
   "cell_type": "code",
   "execution_count": 178,
   "metadata": {},
   "outputs": [
    {
     "data": {
      "text/html": [
       "<div>\n",
       "<style scoped>\n",
       "    .dataframe tbody tr th:only-of-type {\n",
       "        vertical-align: middle;\n",
       "    }\n",
       "\n",
       "    .dataframe tbody tr th {\n",
       "        vertical-align: top;\n",
       "    }\n",
       "\n",
       "    .dataframe thead th {\n",
       "        text-align: right;\n",
       "    }\n",
       "</style>\n",
       "<table border=\"1\" class=\"dataframe\">\n",
       "  <thead>\n",
       "    <tr style=\"text-align: right;\">\n",
       "      <th></th>\n",
       "      <th>Description</th>\n",
       "      <th>Probability of Arrest</th>\n",
       "    </tr>\n",
       "  </thead>\n",
       "  <tbody>\n",
       "    <tr>\n",
       "      <th>0</th>\n",
       "      <td>PROSTITUTION</td>\n",
       "      <td>99.60%</td>\n",
       "    </tr>\n",
       "    <tr>\n",
       "      <th>1</th>\n",
       "      <td>NARCOTICS</td>\n",
       "      <td>99.41%</td>\n",
       "    </tr>\n",
       "    <tr>\n",
       "      <th>2</th>\n",
       "      <td>PUBLIC INDECENCY</td>\n",
       "      <td>99.38%</td>\n",
       "    </tr>\n",
       "    <tr>\n",
       "      <th>3</th>\n",
       "      <td>GAMBLING</td>\n",
       "      <td>99.28%</td>\n",
       "    </tr>\n",
       "    <tr>\n",
       "      <th>4</th>\n",
       "      <td>LIQUOR LAW VIOLATION</td>\n",
       "      <td>99.10%</td>\n",
       "    </tr>\n",
       "    <tr>\n",
       "      <th>5</th>\n",
       "      <td>CONCEALED CARRY LICENSE VIOLATION</td>\n",
       "      <td>93.29%</td>\n",
       "    </tr>\n",
       "    <tr>\n",
       "      <th>6</th>\n",
       "      <td>INTERFERENCE WITH PUBLIC OFFICER</td>\n",
       "      <td>91.72%</td>\n",
       "    </tr>\n",
       "    <tr>\n",
       "      <th>7</th>\n",
       "      <td>OBSCENITY</td>\n",
       "      <td>82.76%</td>\n",
       "    </tr>\n",
       "    <tr>\n",
       "      <th>8</th>\n",
       "      <td>WEAPONS VIOLATION</td>\n",
       "      <td>79.58%</td>\n",
       "    </tr>\n",
       "    <tr>\n",
       "      <th>9</th>\n",
       "      <td>CRIMINAL TRESPASS</td>\n",
       "      <td>73.25%</td>\n",
       "    </tr>\n",
       "    <tr>\n",
       "      <th>10</th>\n",
       "      <td>OTHER NARCOTIC VIOLATION</td>\n",
       "      <td>70.97%</td>\n",
       "    </tr>\n",
       "    <tr>\n",
       "      <th>11</th>\n",
       "      <td>PUBLIC PEACE VIOLATION</td>\n",
       "      <td>64.30%</td>\n",
       "    </tr>\n",
       "  </tbody>\n",
       "</table>\n",
       "</div>"
      ],
      "text/plain": [
       "                          Description Probability of Arrest\n",
       "0                        PROSTITUTION                99.60%\n",
       "1                           NARCOTICS                99.41%\n",
       "2                    PUBLIC INDECENCY                99.38%\n",
       "3                            GAMBLING                99.28%\n",
       "4                LIQUOR LAW VIOLATION                99.10%\n",
       "5   CONCEALED CARRY LICENSE VIOLATION                93.29%\n",
       "6    INTERFERENCE WITH PUBLIC OFFICER                91.72%\n",
       "7                           OBSCENITY                82.76%\n",
       "8                   WEAPONS VIOLATION                79.58%\n",
       "9                   CRIMINAL TRESPASS                73.25%\n",
       "10           OTHER NARCOTIC VIOLATION                70.97%\n",
       "11             PUBLIC PEACE VIOLATION                64.30%"
      ]
     },
     "execution_count": 178,
     "metadata": {},
     "output_type": "execute_result"
    }
   ],
   "source": [
    "x = arrest_percent.astype(float).map(\"{:.2%}\".format).head(12)\n",
    "pd.DataFrame({'Description':x.index, 'Probability of Arrest':x.values})"
   ]
  },
  {
   "cell_type": "markdown",
   "metadata": {},
   "source": [
    "### Niedrige Verhaftungsrate"
   ]
  },
  {
   "cell_type": "code",
   "execution_count": 177,
   "metadata": {},
   "outputs": [
    {
     "data": {
      "text/html": [
       "<div>\n",
       "<style scoped>\n",
       "    .dataframe tbody tr th:only-of-type {\n",
       "        vertical-align: middle;\n",
       "    }\n",
       "\n",
       "    .dataframe tbody tr th {\n",
       "        vertical-align: top;\n",
       "    }\n",
       "\n",
       "    .dataframe thead th {\n",
       "        text-align: right;\n",
       "    }\n",
       "</style>\n",
       "<table border=\"1\" class=\"dataframe\">\n",
       "  <thead>\n",
       "    <tr style=\"text-align: right;\">\n",
       "      <th></th>\n",
       "      <th>Description</th>\n",
       "      <th>Probability of Arrest</th>\n",
       "    </tr>\n",
       "  </thead>\n",
       "  <tbody>\n",
       "    <tr>\n",
       "      <th>0</th>\n",
       "      <td>CRIM SEXUAL ASSAULT</td>\n",
       "      <td>15.66%</td>\n",
       "    </tr>\n",
       "    <tr>\n",
       "      <th>1</th>\n",
       "      <td>RITUALISM</td>\n",
       "      <td>13.04%</td>\n",
       "    </tr>\n",
       "    <tr>\n",
       "      <th>2</th>\n",
       "      <td>ARSON</td>\n",
       "      <td>13.02%</td>\n",
       "    </tr>\n",
       "    <tr>\n",
       "      <th>3</th>\n",
       "      <td>HUMAN TRAFFICKING</td>\n",
       "      <td>12.24%</td>\n",
       "    </tr>\n",
       "    <tr>\n",
       "      <th>4</th>\n",
       "      <td>THEFT</td>\n",
       "      <td>11.95%</td>\n",
       "    </tr>\n",
       "    <tr>\n",
       "      <th>5</th>\n",
       "      <td>KIDNAPPING</td>\n",
       "      <td>11.12%</td>\n",
       "    </tr>\n",
       "    <tr>\n",
       "      <th>6</th>\n",
       "      <td>ROBBERY</td>\n",
       "      <td>9.70%</td>\n",
       "    </tr>\n",
       "    <tr>\n",
       "      <th>7</th>\n",
       "      <td>MOTOR VEHICLE THEFT</td>\n",
       "      <td>9.13%</td>\n",
       "    </tr>\n",
       "    <tr>\n",
       "      <th>8</th>\n",
       "      <td>CRIMINAL DAMAGE</td>\n",
       "      <td>7.06%</td>\n",
       "    </tr>\n",
       "    <tr>\n",
       "      <th>9</th>\n",
       "      <td>NON-CRIMINAL</td>\n",
       "      <td>6.13%</td>\n",
       "    </tr>\n",
       "    <tr>\n",
       "      <th>10</th>\n",
       "      <td>BURGLARY</td>\n",
       "      <td>5.73%</td>\n",
       "    </tr>\n",
       "    <tr>\n",
       "      <th>11</th>\n",
       "      <td>DOMESTIC VIOLENCE</td>\n",
       "      <td>nan%</td>\n",
       "    </tr>\n",
       "  </tbody>\n",
       "</table>\n",
       "</div>"
      ],
      "text/plain": [
       "            Description Probability of Arrest\n",
       "0   CRIM SEXUAL ASSAULT                15.66%\n",
       "1             RITUALISM                13.04%\n",
       "2                 ARSON                13.02%\n",
       "3     HUMAN TRAFFICKING                12.24%\n",
       "4                 THEFT                11.95%\n",
       "5            KIDNAPPING                11.12%\n",
       "6               ROBBERY                 9.70%\n",
       "7   MOTOR VEHICLE THEFT                 9.13%\n",
       "8       CRIMINAL DAMAGE                 7.06%\n",
       "9          NON-CRIMINAL                 6.13%\n",
       "10             BURGLARY                 5.73%\n",
       "11    DOMESTIC VIOLENCE                  nan%"
      ]
     },
     "execution_count": 177,
     "metadata": {},
     "output_type": "execute_result"
    }
   ],
   "source": [
    "x = arrest_percent.astype(float).map(\"{:.2%}\".format).tail(12)\n",
    "pd.DataFrame({'Description':x.index, 'Probability of Arrest':x.values})"
   ]
  },
  {
   "cell_type": "markdown",
   "metadata": {},
   "source": [
    "### Verhaftungsraten: Diebstahl"
   ]
  },
  {
   "cell_type": "code",
   "execution_count": 199,
   "metadata": {},
   "outputs": [],
   "source": [
    "c = crimes\n",
    "c = c[c['Primary Type'] == 'THEFT']\n",
    "c = c.set_index('Description').sort_index()\n",
    "c = c.groupby(['Description', 'Arrest']).size().sort_values(ascending=False).unstack()\n",
    "c['Total'] = c[False] + c[True]\n",
    "c = c.sort_values(ascending=False, by='Total')\n",
    "c.drop('Total', axis=1)\n",
    "c = (c[True] / (c[True] + c[False]))\n",
    "c = c.sort_values(ascending=False)\n",
    "\n",
    "c = c.astype(float).map(\"{:.2%}\".format).rename('wfj')\n",
    "\n",
    "df = pd.DataFrame({'Description':c.index, 'Probability of Arrest':c.values})"
   ]
  },
  {
   "cell_type": "code",
   "execution_count": 200,
   "metadata": {},
   "outputs": [
    {
     "data": {
      "text/html": [
       "<div>\n",
       "<style scoped>\n",
       "    .dataframe tbody tr th:only-of-type {\n",
       "        vertical-align: middle;\n",
       "    }\n",
       "\n",
       "    .dataframe tbody tr th {\n",
       "        vertical-align: top;\n",
       "    }\n",
       "\n",
       "    .dataframe thead th {\n",
       "        text-align: right;\n",
       "    }\n",
       "</style>\n",
       "<table border=\"1\" class=\"dataframe\">\n",
       "  <thead>\n",
       "    <tr style=\"text-align: right;\">\n",
       "      <th></th>\n",
       "      <th>Description</th>\n",
       "      <th>Probability of Arrest</th>\n",
       "    </tr>\n",
       "  </thead>\n",
       "  <tbody>\n",
       "    <tr>\n",
       "      <th>0</th>\n",
       "      <td>RETAIL THEFT</td>\n",
       "      <td>60.43%</td>\n",
       "    </tr>\n",
       "    <tr>\n",
       "      <th>1</th>\n",
       "      <td>ATTEMPT THEFT</td>\n",
       "      <td>24.89%</td>\n",
       "    </tr>\n",
       "    <tr>\n",
       "      <th>2</th>\n",
       "      <td>DELIVERY CONTAINER THEFT</td>\n",
       "      <td>22.10%</td>\n",
       "    </tr>\n",
       "    <tr>\n",
       "      <th>3</th>\n",
       "      <td>FROM COIN-OP MACHINE/DEVICE</td>\n",
       "      <td>16.54%</td>\n",
       "    </tr>\n",
       "    <tr>\n",
       "      <th>4</th>\n",
       "      <td>$500 AND UNDER</td>\n",
       "      <td>7.95%</td>\n",
       "    </tr>\n",
       "    <tr>\n",
       "      <th>5</th>\n",
       "      <td>OVER $500</td>\n",
       "      <td>3.87%</td>\n",
       "    </tr>\n",
       "    <tr>\n",
       "      <th>6</th>\n",
       "      <td>AGG: FINANCIAL ID THEFT</td>\n",
       "      <td>3.17%</td>\n",
       "    </tr>\n",
       "    <tr>\n",
       "      <th>7</th>\n",
       "      <td>FROM BUILDING</td>\n",
       "      <td>2.66%</td>\n",
       "    </tr>\n",
       "    <tr>\n",
       "      <th>8</th>\n",
       "      <td>PURSE-SNATCHING</td>\n",
       "      <td>2.58%</td>\n",
       "    </tr>\n",
       "    <tr>\n",
       "      <th>9</th>\n",
       "      <td>POCKET-PICKING</td>\n",
       "      <td>2.02%</td>\n",
       "    </tr>\n",
       "    <tr>\n",
       "      <th>10</th>\n",
       "      <td>FINANCIAL ID THEFT: OVER $300</td>\n",
       "      <td>1.70%</td>\n",
       "    </tr>\n",
       "    <tr>\n",
       "      <th>11</th>\n",
       "      <td>ATTEMPT FINANCIAL IDENTITY THEFT</td>\n",
       "      <td>1.29%</td>\n",
       "    </tr>\n",
       "    <tr>\n",
       "      <th>12</th>\n",
       "      <td>FINANCIAL ID THEFT:$300 &amp;UNDER</td>\n",
       "      <td>1.07%</td>\n",
       "    </tr>\n",
       "    <tr>\n",
       "      <th>13</th>\n",
       "      <td>$300 AND UNDER</td>\n",
       "      <td>nan%</td>\n",
       "    </tr>\n",
       "    <tr>\n",
       "      <th>14</th>\n",
       "      <td>OVER $300</td>\n",
       "      <td>nan%</td>\n",
       "    </tr>\n",
       "    <tr>\n",
       "      <th>15</th>\n",
       "      <td>THEFT RETAIL</td>\n",
       "      <td>nan%</td>\n",
       "    </tr>\n",
       "  </tbody>\n",
       "</table>\n",
       "</div>"
      ],
      "text/plain": [
       "                         Description Probability of Arrest\n",
       "0                       RETAIL THEFT                60.43%\n",
       "1                      ATTEMPT THEFT                24.89%\n",
       "2           DELIVERY CONTAINER THEFT                22.10%\n",
       "3        FROM COIN-OP MACHINE/DEVICE                16.54%\n",
       "4                     $500 AND UNDER                 7.95%\n",
       "5                          OVER $500                 3.87%\n",
       "6            AGG: FINANCIAL ID THEFT                 3.17%\n",
       "7                      FROM BUILDING                 2.66%\n",
       "8                    PURSE-SNATCHING                 2.58%\n",
       "9                     POCKET-PICKING                 2.02%\n",
       "10     FINANCIAL ID THEFT: OVER $300                 1.70%\n",
       "11  ATTEMPT FINANCIAL IDENTITY THEFT                 1.29%\n",
       "12    FINANCIAL ID THEFT:$300 &UNDER                 1.07%\n",
       "13                    $300 AND UNDER                  nan%\n",
       "14                         OVER $300                  nan%\n",
       "15                      THEFT RETAIL                  nan%"
      ]
     },
     "execution_count": 200,
     "metadata": {},
     "output_type": "execute_result"
    }
   ],
   "source": [
    "df"
   ]
  },
  {
   "cell_type": "code",
   "execution_count": 201,
   "metadata": {},
   "outputs": [
    {
     "data": {
      "text/html": [
       "<div>\n",
       "<style scoped>\n",
       "    .dataframe tbody tr th:only-of-type {\n",
       "        vertical-align: middle;\n",
       "    }\n",
       "\n",
       "    .dataframe tbody tr th {\n",
       "        vertical-align: top;\n",
       "    }\n",
       "\n",
       "    .dataframe thead th {\n",
       "        text-align: right;\n",
       "    }\n",
       "</style>\n",
       "<table border=\"1\" class=\"dataframe\">\n",
       "  <thead>\n",
       "    <tr style=\"text-align: right;\">\n",
       "      <th></th>\n",
       "      <th>Description</th>\n",
       "      <th>Probability of Arrest</th>\n",
       "    </tr>\n",
       "  </thead>\n",
       "  <tbody>\n",
       "    <tr>\n",
       "      <th>4</th>\n",
       "      <td>$500 AND UNDER</td>\n",
       "      <td>7.95%</td>\n",
       "    </tr>\n",
       "    <tr>\n",
       "      <th>5</th>\n",
       "      <td>OVER $500</td>\n",
       "      <td>3.87%</td>\n",
       "    </tr>\n",
       "  </tbody>\n",
       "</table>\n",
       "</div>"
      ],
      "text/plain": [
       "      Description Probability of Arrest\n",
       "4  $500 AND UNDER                 7.95%\n",
       "5       OVER $500                 3.87%"
      ]
     },
     "execution_count": 201,
     "metadata": {},
     "output_type": "execute_result"
    }
   ],
   "source": [
    "df[(df.Description == ('$500 AND UNDER')) | (df.Description == ('OVER $500'))]"
   ]
  },
  {
   "cell_type": "markdown",
   "metadata": {},
   "source": [
    "Mögliche Eklärungen: \n",
    "- Wertvollere Gegenstände sind eher/besser versichert\n",
    "- Diebstahl wertvoller Gegenstände ist besser geplant / Affekthandlung bei günstigen Gegenständen"
   ]
  },
  {
   "cell_type": "markdown",
   "metadata": {},
   "source": [
    "### Verhaftungsraten: Drogen"
   ]
  },
  {
   "cell_type": "markdown",
   "metadata": {},
   "source": []
  },
  {
   "cell_type": "code",
   "execution_count": 238,
   "metadata": {},
   "outputs": [
    {
     "data": {
      "text/html": [
       "<div>\n",
       "<style scoped>\n",
       "    .dataframe tbody tr th:only-of-type {\n",
       "        vertical-align: middle;\n",
       "    }\n",
       "\n",
       "    .dataframe tbody tr th {\n",
       "        vertical-align: top;\n",
       "    }\n",
       "\n",
       "    .dataframe thead th {\n",
       "        text-align: right;\n",
       "    }\n",
       "</style>\n",
       "<table border=\"1\" class=\"dataframe\">\n",
       "  <thead>\n",
       "    <tr style=\"text-align: right;\">\n",
       "      <th></th>\n",
       "      <th>Description</th>\n",
       "      <th>Probability of Arrest</th>\n",
       "    </tr>\n",
       "  </thead>\n",
       "  <tbody>\n",
       "    <tr>\n",
       "      <th>0</th>\n",
       "      <td>POSS: PCP</td>\n",
       "      <td>99.80%</td>\n",
       "    </tr>\n",
       "    <tr>\n",
       "      <th>1</th>\n",
       "      <td>ATTEMPT POSSESSION NARCOTICS</td>\n",
       "      <td>99.71%</td>\n",
       "    </tr>\n",
       "    <tr>\n",
       "      <th>2</th>\n",
       "      <td>SOLICIT NARCOTICS ON PUBLICWAY</td>\n",
       "      <td>99.60%</td>\n",
       "    </tr>\n",
       "    <tr>\n",
       "      <th>3</th>\n",
       "      <td>POSS: BARBITUATES</td>\n",
       "      <td>99.60%</td>\n",
       "    </tr>\n",
       "    <tr>\n",
       "      <th>4</th>\n",
       "      <td>POS: HYPODERMIC NEEDLE</td>\n",
       "      <td>99.56%</td>\n",
       "    </tr>\n",
       "    <tr>\n",
       "      <th>37</th>\n",
       "      <td>MANU/DELIVER: HALLUCINOGEN</td>\n",
       "      <td>97.84%</td>\n",
       "    </tr>\n",
       "    <tr>\n",
       "      <th>38</th>\n",
       "      <td>DELIVER CANNABIS TO PERSON &lt;18</td>\n",
       "      <td>97.78%</td>\n",
       "    </tr>\n",
       "    <tr>\n",
       "      <th>39</th>\n",
       "      <td>CRIMINAL DRUG CONSPIRACY</td>\n",
       "      <td>96.90%</td>\n",
       "    </tr>\n",
       "    <tr>\n",
       "      <th>40</th>\n",
       "      <td>CALCULATED CANNABIS CONSPIRACY</td>\n",
       "      <td>83.33%</td>\n",
       "    </tr>\n",
       "    <tr>\n",
       "      <th>41</th>\n",
       "      <td>FAIL REGISTER LIC:CONT SUBS</td>\n",
       "      <td>80.00%</td>\n",
       "    </tr>\n",
       "  </tbody>\n",
       "</table>\n",
       "</div>"
      ],
      "text/plain": [
       "                       Description Probability of Arrest\n",
       "0                        POSS: PCP                99.80%\n",
       "1     ATTEMPT POSSESSION NARCOTICS                99.71%\n",
       "2   SOLICIT NARCOTICS ON PUBLICWAY                99.60%\n",
       "3                POSS: BARBITUATES                99.60%\n",
       "4           POS: HYPODERMIC NEEDLE                99.56%\n",
       "37      MANU/DELIVER: HALLUCINOGEN                97.84%\n",
       "38  DELIVER CANNABIS TO PERSON <18                97.78%\n",
       "39        CRIMINAL DRUG CONSPIRACY                96.90%\n",
       "40  CALCULATED CANNABIS CONSPIRACY                83.33%\n",
       "41     FAIL REGISTER LIC:CONT SUBS                80.00%"
      ]
     },
     "execution_count": 238,
     "metadata": {},
     "output_type": "execute_result"
    }
   ],
   "source": [
    "c = crimes\n",
    "c = c[c['Primary Type'] == 'NARCOTICS']\n",
    "c = c.set_index('Description').sort_index()\n",
    "c = c.groupby(['Description', 'Arrest']).size().sort_values(ascending=False).unstack()\n",
    "c['Total'] = c[False] + c[True]\n",
    "c = c.sort_values(ascending=False, by='Total')\n",
    "c.drop('Total', axis=1)\n",
    "c = (c[True] / (c[True] + c[False]))\n",
    "c = c.sort_values(ascending=False)\n",
    "\n",
    "c = c.astype(float).dropna()\n",
    "p = c.map(\"{:.2%}\".format)\n",
    "\n",
    "df = pd.DataFrame({'Description':p.index, 'Probability of Arrest':p.values})\n",
    "df.head(5).append(df.tail(5))"
   ]
  },
  {
   "cell_type": "code",
   "execution_count": 258,
   "metadata": {},
   "outputs": [
    {
     "name": "stdout",
     "output_type": "stream",
     "text": [
      "Standard Abweichung der Verhaftungsrate von verschiedenen Drogendeliktarten:\n",
      "0.038\n"
     ]
    }
   ],
   "source": [
    "print(f'Standard Abweichung der Verhaftungsrate von verschiedenen Drogendeliktarten:\\n{\"%.3f\" % c.std()}')"
   ]
  },
  {
   "cell_type": "markdown",
   "metadata": {},
   "source": [
    "Die Art des Drogendeliktes hat anscheinend keinen Einfluss auf die Verhaftungsrate. "
   ]
  },
  {
   "cell_type": "markdown",
   "metadata": {},
   "source": [
    "# Zeit & Datum"
   ]
  },
  {
   "cell_type": "code",
   "execution_count": 175,
   "metadata": {},
   "outputs": [
    {
     "data": {
      "text/html": [
       "<div>\n",
       "<style scoped>\n",
       "    .dataframe tbody tr th:only-of-type {\n",
       "        vertical-align: middle;\n",
       "    }\n",
       "\n",
       "    .dataframe tbody tr th {\n",
       "        vertical-align: top;\n",
       "    }\n",
       "\n",
       "    .dataframe thead th {\n",
       "        text-align: right;\n",
       "    }\n",
       "</style>\n",
       "<table border=\"1\" class=\"dataframe\">\n",
       "  <thead>\n",
       "    <tr style=\"text-align: right;\">\n",
       "      <th></th>\n",
       "      <th>ID</th>\n",
       "      <th>Case Number</th>\n",
       "      <th>Date</th>\n",
       "      <th>Block</th>\n",
       "      <th>IUCR</th>\n",
       "      <th>Primary Type</th>\n",
       "      <th>Description</th>\n",
       "      <th>Location Description</th>\n",
       "      <th>Arrest</th>\n",
       "      <th>Domestic</th>\n",
       "      <th>Beat</th>\n",
       "      <th>District</th>\n",
       "      <th>Ward</th>\n",
       "      <th>Community Area</th>\n",
       "      <th>FBI Code</th>\n",
       "      <th>X Coordinate</th>\n",
       "      <th>Y Coordinate</th>\n",
       "      <th>Year</th>\n",
       "      <th>Updated On</th>\n",
       "      <th>Latitude</th>\n",
       "      <th>Longitude</th>\n",
       "      <th>Location</th>\n",
       "    </tr>\n",
       "  </thead>\n",
       "  <tbody>\n",
       "    <tr>\n",
       "      <th>0</th>\n",
       "      <td>10000092</td>\n",
       "      <td>HY189866</td>\n",
       "      <td>2015-03-18 19:44:00</td>\n",
       "      <td>047XX W OHIO ST</td>\n",
       "      <td>041A</td>\n",
       "      <td>BATTERY</td>\n",
       "      <td>AGGRAVATED: HANDGUN</td>\n",
       "      <td>STREET</td>\n",
       "      <td>False</td>\n",
       "      <td>False</td>\n",
       "      <td>1111</td>\n",
       "      <td>11.0</td>\n",
       "      <td>28.0</td>\n",
       "      <td>25.0</td>\n",
       "      <td>04B</td>\n",
       "      <td>1144606.0</td>\n",
       "      <td>1903566.0</td>\n",
       "      <td>2015</td>\n",
       "      <td>2018-02-10 15:50:01</td>\n",
       "      <td>41.891399</td>\n",
       "      <td>-87.744385</td>\n",
       "      <td>(41.891398861, -87.744384567)</td>\n",
       "    </tr>\n",
       "  </tbody>\n",
       "</table>\n",
       "</div>"
      ],
      "text/plain": [
       "         ID Case Number                Date            Block  IUCR  \\\n",
       "0  10000092    HY189866 2015-03-18 19:44:00  047XX W OHIO ST  041A   \n",
       "\n",
       "  Primary Type          Description Location Description  Arrest  Domestic  \\\n",
       "0      BATTERY  AGGRAVATED: HANDGUN               STREET   False     False   \n",
       "\n",
       "   Beat  District  Ward  Community Area FBI Code  X Coordinate  Y Coordinate  \\\n",
       "0  1111      11.0  28.0            25.0      04B     1144606.0     1903566.0   \n",
       "\n",
       "   Year          Updated On   Latitude  Longitude  \\\n",
       "0  2015 2018-02-10 15:50:01  41.891399 -87.744385   \n",
       "\n",
       "                        Location  \n",
       "0  (41.891398861, -87.744384567)  "
      ]
     },
     "execution_count": 175,
     "metadata": {},
     "output_type": "execute_result"
    }
   ],
   "source": [
    "crimes.head(1)"
   ]
  },
  {
   "cell_type": "markdown",
   "metadata": {},
   "source": [
    "# Sonstiges (PLACEHOLDER)"
   ]
  },
  {
   "cell_type": "markdown",
   "metadata": {},
   "source": [
    "#### Korrelationsmatrix"
   ]
  },
  {
   "cell_type": "code",
   "execution_count": 186,
   "metadata": {},
   "outputs": [
    {
     "data": {
      "image/png": "[encoded data removed]",
      "text/plain": [
       "<Figure size 1440x1080 with 2 Axes>"
      ]
     },
     "metadata": {
      "needs_background": "light"
     },
     "output_type": "display_data"
    }
   ],
   "source": [
    "c = crimes\n",
    "\n",
    "types = ['NARCOTICS', 'PROSTITUTION', 'THEFT', 'MOTOR VEHICLE THEFT', 'BURGLARY', 'CRIMINAL TRESPASS', 'GAMBLING', 'LIQUOR LAW VIOLATION']\n",
    "types.sort()\n",
    "\n",
    "types += ['Total Crime Count']\n",
    "# types += ['NON-CRIMINAL'] # Validierung. Muss nahe 0 sein, da z.B. \"Passport verloren\" keinen logischen Zusammenhang mit \"Mord\" hat.\n",
    "\n",
    "c = c.groupby([c.Date.dt.day, c['Primary Type']]).size()\n",
    "c = c.unstack()\n",
    "c['Total Crime Count'] = c.sum(axis=1)\n",
    "\n",
    "c = c[types]\n",
    "change = c.pct_change()\n",
    "\n",
    "corr = change.corr()\n",
    "\n",
    "plt.subplots(figsize=(20,15))\n",
    "s = sns.heatmap(corr, annot=True, cmap=\"Blues\")\n",
    "s = s.set_yticklabels(s.get_yticklabels(), rotation = 0)"
   ]
  },
  {
   "cell_type": "code",
   "execution_count": null,
   "metadata": {},
   "outputs": [],
   "source": []
  }
 ],
 "metadata": {
  "kernelspec": {
   "display_name": "Python 3",
   "language": "python",
   "name": "python3"
  },
  "language_info": {
   "codemirror_mode": {
    "name": "ipython",
    "version": 3
   },
   "file_extension": ".py",
   "mimetype": "text/x-python",
   "name": "python",
   "nbconvert_exporter": "python",
   "pygments_lexer": "ipython3",
   "version": "3.7.1"
  }
 },
 "nbformat": 4,
 "nbformat_minor": 2
}
